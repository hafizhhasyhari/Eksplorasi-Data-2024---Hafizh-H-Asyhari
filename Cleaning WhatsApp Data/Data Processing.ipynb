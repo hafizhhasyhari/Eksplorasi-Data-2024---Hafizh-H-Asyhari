{
 "cells": [
  {
   "cell_type": "code",
   "execution_count": 69,
   "metadata": {},
   "outputs": [],
   "source": [
    "import pandas as pd\n",
    "import dplython\n",
    "import re"
   ]
  },
  {
   "cell_type": "markdown",
   "metadata": {},
   "source": [
    "# 1. IMPORT DATA"
   ]
  },
  {
   "cell_type": "code",
   "execution_count": 22,
   "metadata": {},
   "outputs": [],
   "source": [
    "file = open(\"datachat.txt\",\"r\",encoding=\"utf8\") \n",
    "dn = file.readlines()\n",
    "#file.close()"
   ]
  },
  {
   "cell_type": "markdown",
   "metadata": {},
   "source": [
    "# 2. UNDERSTANDING DATA"
   ]
  },
  {
   "cell_type": "code",
   "execution_count": 23,
   "metadata": {},
   "outputs": [
    {
     "name": "stdout",
     "output_type": "stream",
     "text": [
      "<class 'list'>\n"
     ]
    }
   ],
   "source": [
    "# Melihat tipe data \n",
    "print(type(dn))"
   ]
  },
  {
   "cell_type": "code",
   "execution_count": 26,
   "metadata": {},
   "outputs": [
    {
     "name": "stdout",
     "output_type": "stream",
     "text": [
      "25/6/15, 1:42:12 AM: ‎Vishnu Gaud created this group\n",
      "\n",
      "25/6/15, 1:42:12 AM: ‎You were added\n",
      "\n",
      "18/12/16, 1:57:38 AM: Shahain: <‎image omitted>\n",
      "\n",
      "21/12/16, 9:54:46 PM: Pankaj Sinha: <‎image omitted>\n",
      "\n",
      "21/12/16, 9:57:45 PM: Shahain: Wow\n",
      "\n",
      "21/12/16, 10:48:51 PM: Sakshi: <‎image omitted>\n",
      "\n",
      "21/12/16, 10:49:00 PM: Sakshi: <‎image omitted>\n",
      "\n",
      "21/12/16, 10:50:12 PM: Neha Wipro: Awsum😀😀👍🏼👍🏼\n",
      "\n",
      "21/12/16, 10:51:21 PM: Sakshi: 🙈\n",
      "\n",
      "21/12/16, 10:57:01 PM: Ganguly: 🙂🙂👍🏻👍🏻\n",
      "\n"
     ]
    }
   ],
   "source": [
    "## Melihat isi data beberapa baris\n",
    "for k in range(0,10):\n",
    "    print(dn[k])"
   ]
  },
  {
   "cell_type": "code",
   "execution_count": 45,
   "metadata": {},
   "outputs": [
    {
     "name": "stdout",
     "output_type": "stream",
     "text": [
      "एक जैसी ही होती है...!!\n",
      "\n",
      "\n",
      "\n",
      "👌 बहुत सुन्दर सन्देश 👌-::\n",
      "\n",
      "\n",
      "\n",
      "अगर आप किसी को छोटा देख रहे हो, तो आप उसे;\n",
      "\n",
      "\n",
      "\n",
      "या तो \"दूर\" से देख रहे हो,\n",
      "\n",
      "\n",
      "\n",
      "या अपने \"गुरुर\" से देख रहे हो !\n",
      "\n",
      "♤♤♤♤♤♤♤♤♤♤♤♡♡ 💐💐💐\n"
     ]
    }
   ],
   "source": [
    "for k in range(len(dn)-10,len(dn)):\n",
    "    print(dn[k])"
   ]
  },
  {
   "cell_type": "markdown",
   "metadata": {},
   "source": [
    "Kesimpulan : data terdiri dari komponen date, time, chatting. Beberapa baris mengandung tanda baca, emoticon, bahasa india. Beberapa data juga tidak lengkap komponenya. "
   ]
  },
  {
   "cell_type": "markdown",
   "metadata": {},
   "source": [
    "# 3. Cleaning Data"
   ]
  },
  {
   "cell_type": "code",
   "execution_count": 95,
   "metadata": {},
   "outputs": [
    {
     "data": {
      "text/plain": [
       "'25/6/15, 1:42:12 AM: \\u200eVishnu Gaud created this group\\n'"
      ]
     },
     "execution_count": 95,
     "metadata": {},
     "output_type": "execute_result"
    }
   ],
   "source": [
    "dn[0]"
   ]
  },
  {
   "cell_type": "code",
   "execution_count": 150,
   "metadata": {},
   "outputs": [
    {
     "data": {
      "text/plain": [
       "['25/6/15, 1:42:12 AM: \\u200eYou were added\\n']"
      ]
     },
     "execution_count": 150,
     "metadata": {},
     "output_type": "execute_result"
    }
   ],
   "source": [
    "spl = re.compile(\"(?<=\\\\d{2}/\\\\d{2}/\\\\d{4})\").split(dn[1])\n",
    "spl"
   ]
  },
  {
   "cell_type": "code",
   "execution_count": 153,
   "metadata": {},
   "outputs": [
    {
     "data": {
      "text/plain": [
       "['25/6/15, 1:42:12 AM: \\u200eYou were added\\n']"
      ]
     },
     "execution_count": 153,
     "metadata": {},
     "output_type": "execute_result"
    }
   ],
   "source": [
    "spl = re.compile(\"(?<=!^)\\s+(?=[A-Z])(?!.\\s)\").split(dn[1])\n",
    "spl"
   ]
  },
  {
   "cell_type": "code",
   "execution_count": 178,
   "metadata": {},
   "outputs": [
    {
     "data": {
      "text/plain": [
       "['', '', '/', '/', '', ', ', ':', '', ':', '', ' AM: \\u200eYou were added\\n']"
      ]
     },
     "execution_count": 178,
     "metadata": {},
     "output_type": "execute_result"
    }
   ],
   "source": [
    "spl = re.compile(\"[0-9]\").split(dn[1])\n",
    "spl"
   ]
  },
  {
   "cell_type": "code",
   "execution_count": 189,
   "metadata": {},
   "outputs": [
    {
     "data": {
      "text/plain": [
       "'egg'"
      ]
     },
     "execution_count": 189,
     "metadata": {},
     "output_type": "execute_result"
    }
   ],
   "source": [
    "m= re.search('(?<=-)\\w+', 'spam-egg')\n",
    "m.group(0)"
   ]
  },
  {
   "cell_type": "code",
   "execution_count": 202,
   "metadata": {},
   "outputs": [
    {
     "data": {
      "text/plain": [
       "['spam', '', '', 'egg']"
      ]
     },
     "execution_count": 202,
     "metadata": {},
     "output_type": "execute_result"
    }
   ],
   "source": [
    "m= re.compile('\\W').split('spam - egg')\n",
    "m "
   ]
  },
  {
   "cell_type": "code",
   "execution_count": 59,
   "metadata": {},
   "outputs": [
    {
     "name": "stdout",
     "output_type": "stream",
     "text": [
      "Given Dataframe is :\n",
      "             Name  Age\n",
      "0    John Larter   32\n",
      "1  Robert Junior   34\n",
      "2     Jonny Depp   36\n",
      "\n",
      "Splitting 'Name' column into two different columns :\n",
      "         0       1\n",
      "0    John  Larter\n",
      "1  Robert  Junior\n",
      "2   Jonny    Depp\n"
     ]
    }
   ],
   "source": [
    "  \n",
    "# create a new data frame \n",
    "df = pd.DataFrame({'Name': ['John Larter', 'Robert Junior', 'Jonny Depp'], \n",
    "                   'Age':[32, 34, 36]}) \n",
    "   \n",
    "print(\"Given Dataframe is :\\n\",df) \n",
    "   \n",
    "# bydefault splitting is done on the basis of single space. \n",
    "print(\"\\nSplitting 'Name' column into two different columns :\\n\", \n",
    "                                  df.Name.str.split(expand=True))"
   ]
  },
  {
   "cell_type": "code",
   "execution_count": 60,
   "metadata": {},
   "outputs": [
    {
     "data": {
      "text/html": [
       "<div>\n",
       "<style scoped>\n",
       "    .dataframe tbody tr th:only-of-type {\n",
       "        vertical-align: middle;\n",
       "    }\n",
       "\n",
       "    .dataframe tbody tr th {\n",
       "        vertical-align: top;\n",
       "    }\n",
       "\n",
       "    .dataframe thead th {\n",
       "        text-align: right;\n",
       "    }\n",
       "</style>\n",
       "<table border=\"1\" class=\"dataframe\">\n",
       "  <thead>\n",
       "    <tr style=\"text-align: right;\">\n",
       "      <th></th>\n",
       "      <th>Name</th>\n",
       "      <th>Age</th>\n",
       "    </tr>\n",
       "  </thead>\n",
       "  <tbody>\n",
       "    <tr>\n",
       "      <th>0</th>\n",
       "      <td>John Larter</td>\n",
       "      <td>32</td>\n",
       "    </tr>\n",
       "    <tr>\n",
       "      <th>1</th>\n",
       "      <td>Robert Junior</td>\n",
       "      <td>34</td>\n",
       "    </tr>\n",
       "    <tr>\n",
       "      <th>2</th>\n",
       "      <td>Jonny Depp</td>\n",
       "      <td>36</td>\n",
       "    </tr>\n",
       "  </tbody>\n",
       "</table>\n",
       "</div>"
      ],
      "text/plain": [
       "            Name  Age\n",
       "0    John Larter   32\n",
       "1  Robert Junior   34\n",
       "2     Jonny Depp   36"
      ]
     },
     "execution_count": 60,
     "metadata": {},
     "output_type": "execute_result"
    }
   ],
   "source": [
    "df"
   ]
  },
  {
   "cell_type": "code",
   "execution_count": 62,
   "metadata": {},
   "outputs": [
    {
     "data": {
      "text/html": [
       "<div>\n",
       "<style scoped>\n",
       "    .dataframe tbody tr th:only-of-type {\n",
       "        vertical-align: middle;\n",
       "    }\n",
       "\n",
       "    .dataframe tbody tr th {\n",
       "        vertical-align: top;\n",
       "    }\n",
       "\n",
       "    .dataframe thead th {\n",
       "        text-align: right;\n",
       "    }\n",
       "</style>\n",
       "<table border=\"1\" class=\"dataframe\">\n",
       "  <thead>\n",
       "    <tr style=\"text-align: right;\">\n",
       "      <th></th>\n",
       "      <th>0</th>\n",
       "      <th>1</th>\n",
       "    </tr>\n",
       "  </thead>\n",
       "  <tbody>\n",
       "    <tr>\n",
       "      <th>0</th>\n",
       "      <td>John</td>\n",
       "      <td>Larter</td>\n",
       "    </tr>\n",
       "    <tr>\n",
       "      <th>1</th>\n",
       "      <td>Robert</td>\n",
       "      <td>Junior</td>\n",
       "    </tr>\n",
       "    <tr>\n",
       "      <th>2</th>\n",
       "      <td>Jonny</td>\n",
       "      <td>Depp</td>\n",
       "    </tr>\n",
       "  </tbody>\n",
       "</table>\n",
       "</div>"
      ],
      "text/plain": [
       "        0       1\n",
       "0    John  Larter\n",
       "1  Robert  Junior\n",
       "2   Jonny    Depp"
      ]
     },
     "execution_count": 62,
     "metadata": {},
     "output_type": "execute_result"
    }
   ],
   "source": [
    "df.Name.str.split(expand=True)"
   ]
  },
  {
   "cell_type": "code",
   "execution_count": 87,
   "metadata": {},
   "outputs": [],
   "source": [
    "import re\n",
    "m = re.search('(?<=abc)def', 'abcdef')"
   ]
  },
  {
   "cell_type": "code",
   "execution_count": 93,
   "metadata": {},
   "outputs": [
    {
     "name": "stdout",
     "output_type": "stream",
     "text": [
      "['25/6/15, 1:42:12 AM: \\u200eVishnu Gaud created this group']\n"
     ]
    }
   ],
   "source": [
    "txt = \"25/6/15, 1:42:12 AM: ‎Vishnu Gaud created this group\"\n",
    "x = re.split(\"(?<=\\\\d{2}/\\\\d{2}/\\\\d{4}, \\\\d{2}:\\\\d{2}) - \", txt)\n",
    "print(x)"
   ]
  },
  {
   "cell_type": "code",
   "execution_count": null,
   "metadata": {},
   "outputs": [],
   "source": []
  },
  {
   "cell_type": "code",
   "execution_count": null,
   "metadata": {},
   "outputs": [],
   "source": []
  }
 ],
 "metadata": {
  "kernelspec": {
   "display_name": "Python 3",
   "language": "python",
   "name": "python3"
  },
  "language_info": {
   "codemirror_mode": {
    "name": "ipython",
    "version": 3
   },
   "file_extension": ".py",
   "mimetype": "text/x-python",
   "name": "python",
   "nbconvert_exporter": "python",
   "pygments_lexer": "ipython3",
   "version": "3.7.6"
  }
 },
 "nbformat": 4,
 "nbformat_minor": 4
}
